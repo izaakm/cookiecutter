{
 "cells": [
  {
   "cell_type": "code",
   "execution_count": null,
   "metadata": {},
   "outputs": [],
   "source": [
    "cluster_args = dict(cmap='bwr', center=0, vmin=-2, vmax=2, z_score=0,\n",
    "                    figsize=(12,20),\n",
    "                    col_cluster=False)\n",
    "\n",
    "plotdata = tpm.T\n",
    "plotdata = plotdata[sorted_samples]\n",
    "# colnames = join_columns(md[['source_name', 'sample_case']], sep='_')\n",
    "\n",
    "plotdata = plotdata[sigs_m]  # Must come before rename bc sigs_m index is same as tpm/plotdata (ensembl ids).\n",
    "\n",
    "# plotdata = plotdata.rename(columns=md['sample_and_source'], index=deg['symbol'])\n",
    "# Do NOT use rename bc it breaks mapping the colors to the columns.\n",
    "# Instead, use {get,set}_xticklabels (below).\n",
    "\n",
    "col_colors = md[['Control_c', 'Tissue_c']]\n",
    "print(plotdata.shape)\n",
    "\n",
    "cm = sns.clustermap(plotdata, col_colors=col_colors, **cluster_args)\n",
    "new_tick_labels = []\n",
    "for tick in cm.ax_heatmap.get_xticklabels():\n",
    "    # print(tick)\n",
    "    old_text = tick.get_text()\n",
    "    # print(old_text)\n",
    "    new_text = md.loc[old_text, 'sample_and_source']\n",
    "    # print(new_text)\n",
    "    tick.set_text(new_text)\n",
    "    new_tick_labels.append(tick)\n",
    "# print([i for i in cm.ax_heatmap.get_xticklabels()])\n",
    "# print([new_tick_labels])\n",
    "cm.ax_heatmap.set_xticklabels(new_tick_labels);"
   ]
  }
 ],
 "metadata": {
  "kernelspec": {
   "display_name": "Python 3",
   "language": "python",
   "name": "python3"
  },
  "language_info": {
   "codemirror_mode": {
    "name": "ipython",
    "version": 3
   },
   "file_extension": ".py",
   "mimetype": "text/x-python",
   "name": "python",
   "nbconvert_exporter": "python",
   "pygments_lexer": "ipython3",
   "version": "3.7.6"
  }
 },
 "nbformat": 4,
 "nbformat_minor": 4
}
