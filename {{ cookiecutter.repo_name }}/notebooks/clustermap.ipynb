{
 "cells": [
  {
   "cell_type": "markdown",
   "metadata": {},
   "source": [
    "# Clustermap"
   ]
  },
  {
   "cell_type": "code",
   "execution_count": 33,
   "metadata": {},
   "outputs": [],
   "source": [
    "def relabel_xticks(new_labels, ax):\n",
    "    '''\n",
    "    new_labels : pandas.Series, dict\n",
    "        Index = old tick labels.\n",
    "        [TODO] add support for dataframe (merge cols).\n",
    "    ax : matplotlib axis\n",
    "    \n",
    "    Example\n",
    "        cm = sns.clustermap(plotdata)\n",
    "        relabel_ticks(metadata[column], cm.ax_heatmap)\n",
    "        \n",
    "        new_labels = {'foo': 'bar', 'zig': 'zag'}\n",
    "        relabel_ticks(new_labels, plt.gca())\n",
    "    '''\n",
    "    new_tick_labels = []\n",
    "    for tick in ax.get_xticklabels():\n",
    "        old_text = tick.get_text()\n",
    "        new_text = new_labels[old_text]\n",
    "        tick.set_text(new_text)\n",
    "        new_tick_labels.append(tick)\n",
    "    ax.set_xticklabels(new_tick_labels)\n",
    "    return None"
   ]
  },
  {
   "cell_type": "code",
   "execution_count": 33,
   "metadata": {},
   "outputs": [],
   "source": [
    "def relabel_yticks(new_labels, ax):\n",
    "    '''\n",
    "    new_labels : pandas.Series, dict\n",
    "        Index = old tick labels.\n",
    "        [TODO] add support for dataframe (merge cols).\n",
    "    ax : matplotlib axis\n",
    "    \n",
    "    Example\n",
    "        cm = sns.clustermap(plotdata)\n",
    "        relabel_ticks(metadata[column], cm.ax_heatmap)\n",
    "        \n",
    "        new_labels = {'foo': 'bar', 'zig': 'zag'}\n",
    "        relabel_ticks(new_labels, plt.gca())\n",
    "    '''\n",
    "    new_tick_labels = []\n",
    "    for tick in ax.get_yticklabels():\n",
    "        old_text = tick.get_text()\n",
    "        new_text = new_labels[old_text]\n",
    "        tick.set_text(new_text)\n",
    "        new_tick_labels.append(tick)\n",
    "    ax.set_yticklabels(new_tick_labels)\n",
    "    return None"
   ]
  },
  {
   "cell_type": "code",
   "execution_count": null,
   "metadata": {},
   "outputs": [],
   "source": [
    "cluster_args = dict(cmap='bwr', center=0, vmin=-2, vmax=2, z_score=0,\n",
    "                    figsize=(12,20),\n",
    "                    col_cluster=False)\n",
    "\n",
    "plotdata = tpm.T\n",
    "plotdata = plotdata[sorted_samples]\n",
    "# colnames = join_columns(md[['source_name', 'sample_case']], sep='_')\n",
    "\n",
    "plotdata = plotdata[sigs_m]  # Must come before rename bc sigs_m index is same as tpm/plotdata (ensembl ids).\n",
    "\n",
    "# plotdata = plotdata.rename(columns=md['sample_and_source'], index=deg['symbol'])\n",
    "# Do NOT use rename bc it breaks mapping the colors to the columns.\n",
    "# Instead, use {get,set}_xticklabels (below).\n",
    "\n",
    "col_colors = md[['Control_c', 'Tissue_c']]\n",
    "cm = sns.clustermap(plotdata, col_colors=col_colors, **cluster_args)\n",
    "relabel_xticks(md['sample_and_source'], cm.ax_heatmap)"
   ]
  },
  {
   "cell_type": "code",
   "execution_count": 1,
   "metadata": {},
   "outputs": [
    {
     "ename": "NameError",
     "evalue": "name 'sns' is not defined",
     "output_type": "error",
     "traceback": [
      "\u001b[0;31m---------------------------------------------------------------------------\u001b[0m",
      "\u001b[0;31mNameError\u001b[0m                                 Traceback (most recent call last)",
      "\u001b[0;32m<ipython-input-1-f554946d0a24>\u001b[0m in \u001b[0;36m<module>\u001b[0;34m\u001b[0m\n\u001b[1;32m      1\u001b[0m \u001b[0;31m# The basis for the relabel_xticks function.\u001b[0m\u001b[0;34m\u001b[0m\u001b[0;34m\u001b[0m\u001b[0;34m\u001b[0m\u001b[0m\n\u001b[0;32m----> 2\u001b[0;31m \u001b[0mcm\u001b[0m \u001b[0;34m=\u001b[0m \u001b[0msns\u001b[0m\u001b[0;34m.\u001b[0m\u001b[0mclustermap\u001b[0m\u001b[0;34m(\u001b[0m\u001b[0mplotdata\u001b[0m\u001b[0;34m,\u001b[0m \u001b[0mcol_colors\u001b[0m\u001b[0;34m=\u001b[0m\u001b[0mcol_colors\u001b[0m\u001b[0;34m,\u001b[0m \u001b[0;34m**\u001b[0m\u001b[0mcluster_args\u001b[0m\u001b[0;34m)\u001b[0m\u001b[0;34m\u001b[0m\u001b[0;34m\u001b[0m\u001b[0m\n\u001b[0m\u001b[1;32m      3\u001b[0m \u001b[0mnew_tick_labels\u001b[0m \u001b[0;34m=\u001b[0m \u001b[0;34m[\u001b[0m\u001b[0;34m]\u001b[0m\u001b[0;34m\u001b[0m\u001b[0;34m\u001b[0m\u001b[0m\n\u001b[1;32m      4\u001b[0m \u001b[0;32mfor\u001b[0m \u001b[0mtick\u001b[0m \u001b[0;32min\u001b[0m \u001b[0mcm\u001b[0m\u001b[0;34m.\u001b[0m\u001b[0max_heatmap\u001b[0m\u001b[0;34m.\u001b[0m\u001b[0mget_xticklabels\u001b[0m\u001b[0;34m(\u001b[0m\u001b[0;34m)\u001b[0m\u001b[0;34m:\u001b[0m\u001b[0;34m\u001b[0m\u001b[0;34m\u001b[0m\u001b[0m\n\u001b[1;32m      5\u001b[0m     \u001b[0;31m# print(tick)\u001b[0m\u001b[0;34m\u001b[0m\u001b[0;34m\u001b[0m\u001b[0;34m\u001b[0m\u001b[0m\n",
      "\u001b[0;31mNameError\u001b[0m: name 'sns' is not defined"
     ]
    }
   ],
   "source": [
    "# The basis for the relabel_xticks function.\n",
    "cm = sns.clustermap(plotdata, col_colors=col_colors, **cluster_args)\n",
    "new_tick_labels = []\n",
    "for tick in cm.ax_heatmap.get_xticklabels():\n",
    "    # print(tick)\n",
    "    old_text = tick.get_text()\n",
    "    # print(old_text)\n",
    "    new_text = md.loc[old_text, 'sample_and_source']\n",
    "    # print(new_text)\n",
    "    tick.set_text(new_text)\n",
    "    new_tick_labels.append(tick)\n",
    "# print([i for i in cm.ax_heatmap.get_xticklabels()])\n",
    "# print([new_tick_labels])\n",
    "cm.ax_heatmap.set_xticklabels(new_tick_labels);"
   ]
  }
 ],
 "metadata": {
  "kernelspec": {
   "display_name": "Python 3",
   "language": "python",
   "name": "python3"
  },
  "language_info": {
   "codemirror_mode": {
    "name": "ipython",
    "version": 3
   },
   "file_extension": ".py",
   "mimetype": "text/x-python",
   "name": "python",
   "nbconvert_exporter": "python",
   "pygments_lexer": "ipython3",
   "version": "3.7.6"
  }
 },
 "nbformat": 4,
 "nbformat_minor": 4
}
